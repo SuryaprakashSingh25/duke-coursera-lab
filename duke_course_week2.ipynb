{
  "nbformat": 4,
  "nbformat_minor": 0,
  "metadata": {
    "colab": {
      "name": "duke-course-week2.ipynb",
      "provenance": [],
      "authorship_tag": "ABX9TyMeeEDW/2feBaA87FfeeCNj",
      "include_colab_link": true
    },
    "kernelspec": {
      "name": "python3",
      "display_name": "Python 3"
    },
    "language_info": {
      "name": "python"
    }
  },
  "cells": [
    {
      "cell_type": "markdown",
      "metadata": {
        "id": "view-in-github",
        "colab_type": "text"
      },
      "source": [
        "<a href=\"https://colab.research.google.com/github/SuryaprakashSingh25/duke-coursera-lab/blob/main/duke_course_week2.ipynb\" target=\"_parent\"><img src=\"https://colab.research.google.com/assets/colab-badge.svg\" alt=\"Open In Colab\"/></a>"
      ]
    },
    {
      "cell_type": "code",
      "execution_count": 1,
      "metadata": {
        "colab": {
          "base_uri": "https://localhost:8080/"
        },
        "id": "i2tohYC8Nw3_",
        "outputId": "43bca223-38da-4cfb-cf85-25a95fccb994"
      },
      "outputs": [
        {
          "output_type": "stream",
          "name": "stdout",
          "text": [
            "hello world\n"
          ]
        }
      ],
      "source": [
        "print(\"hello world\")"
      ]
    },
    {
      "cell_type": "markdown",
      "source": [
        "#Introduction to Python\n",
        "###Contents\n",
        "* Jupyter lab\n",
        "* Colab lab\n",
        "* Github"
      ],
      "metadata": {
        "id": "Lclkkl0IOE91"
      }
    },
    {
      "cell_type": "markdown",
      "source": [
        ""
      ],
      "metadata": {
        "id": "smIHubKuOhBl"
      }
    },
    {
      "cell_type": "markdown",
      "source": [
        "##Example of Gist\n",
        "Here is my [code](https://gist.github.com/SuryaprakashSingh25/354602273515160ca77a6462eac8c2fe)"
      ],
      "metadata": {
        "id": "qoOJoHp7Q_Jv"
      }
    }
  ]
}